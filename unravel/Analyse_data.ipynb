{
 "cells": [
  {
   "cell_type": "code",
   "execution_count": 15,
   "id": "48fc2f53",
   "metadata": {},
   "outputs": [],
   "source": [
    "import matplotlib.pyplot as plt"
   ]
  },
  {
   "cell_type": "code",
   "execution_count": 1,
   "id": "c44e0d90",
   "metadata": {},
   "outputs": [],
   "source": [
    "import pyreadr\n",
    "train_normal_path = 'TEP2017R/TEP_FaultFree_Training.RData'\n",
    "train_faulty_path =  'TEP2017R/TEP_Faulty_Training.RData'\n",
    " \n",
    "test_normal_path = 'TEP2017R/TEP_FaultFree_Testing.RData'\n",
    "test_faulty_path = 'TEP2017R/TEP_Faulty_Testing.RData'\n",
    " \n",
    "train_normal = pyreadr.read_r(train_normal_path)['fault_free_training']\n",
    "train_faulty = pyreadr.read_r(train_faulty_path)['faulty_training']\n",
    "test_normal = pyreadr.read_r(test_normal_path)['fault_free_testing']\n",
    "test_faulty = pyreadr.read_r(test_faulty_path)['faulty_testing']\n",
    "df_train_normal = train_normal[train_normal.simulationRun==1].iloc[:,3:]"
   ]
  },
  {
   "cell_type": "code",
   "execution_count": 10,
   "id": "f2874b08",
   "metadata": {},
   "outputs": [],
   "source": [
    "# PCA\n",
    "import pandas as pd\n",
    "from sklearn.decomposition import PCA\n",
    "from sklearn.preprocessing import StandardScaler\n",
    "\n",
    "pca = PCA(n_components=2)\n",
    "x = StandardScaler().fit_transform(df_train_normal)\n",
    "principalComponents = pca.fit_transform(x)\n",
    "principalDf = pd.DataFrame(data = principalComponents, columns = ['principal component 1', 'principal component 2'])"
   ]
  },
  {
   "cell_type": "code",
   "execution_count": 32,
   "id": "df956abb",
   "metadata": {},
   "outputs": [
    {
     "name": "stdout",
     "output_type": "stream",
     "text": [
      "[(0.3458369064787039, 'xmeas_13'), (0.3446001237974229, 'xmeas_7'), (0.33017298242549814, 'xmeas_16'), (0.2910754520953006, 'xmv_5'), (0.2553326919345332, 'xmeas_20')]\n",
      "[(0.3734306392025106, 'xmv_9'), (0.37331386474514056, 'xmeas_19'), (0.36408108116496773, 'xmeas_18'), (0.26167116131092133, 'xmeas_20'), (0.2509693887512119, 'xmeas_29')]\n"
     ]
    }
   ],
   "source": [
    "name = list(df_train_normal.columns)\n",
    "score = abs(pca.components_)\n",
    "print(sorted(zip(score[0], name), reverse=True)[:5])\n",
    "print(sorted(zip(score[1], name), reverse=True)[:5])"
   ]
  },
  {
   "cell_type": "code",
   "execution_count": 29,
   "id": "c63a6bcc",
   "metadata": {},
   "outputs": [
    {
     "name": "stdout",
     "output_type": "stream",
     "text": [
      "[0.14261039 0.09379146]\n"
     ]
    }
   ],
   "source": [
    "print(pca.explained_variance_ratio_)"
   ]
  },
  {
   "cell_type": "code",
   "execution_count": null,
   "id": "ebbf9701",
   "metadata": {},
   "outputs": [],
   "source": [
    "# Bayesian"
   ]
  }
 ],
 "metadata": {
  "kernelspec": {
   "display_name": "Python 3 (ipykernel)",
   "language": "python",
   "name": "python3"
  },
  "language_info": {
   "codemirror_mode": {
    "name": "ipython",
    "version": 3
   },
   "file_extension": ".py",
   "mimetype": "text/x-python",
   "name": "python",
   "nbconvert_exporter": "python",
   "pygments_lexer": "ipython3",
   "version": "3.11.5"
  }
 },
 "nbformat": 4,
 "nbformat_minor": 5
}
